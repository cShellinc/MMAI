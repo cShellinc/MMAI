{
 "cells": [
  {
   "cell_type": "markdown",
   "metadata": {},
   "source": [
    "# Remove duplicates in a file\n"
   ]
  },
  {
   "cell_type": "markdown",
   "metadata": {},
   "source": [
    "- to be used on BMW data for Group Assignment for MMAI 869\n",
    "- this code only works on exact duplicate rows (all fields in row)"
   ]
  },
  {
   "cell_type": "code",
   "execution_count": 21,
   "metadata": {},
   "outputs": [
    {
     "name": "stdout",
     "output_type": "stream",
     "text": [
      "2019-10-20 09:45:19.424840\n"
     ]
    }
   ],
   "source": [
    "import datetime\n",
    "print(datetime.datetime.now())"
   ]
  },
  {
   "cell_type": "code",
   "execution_count": 22,
   "metadata": {},
   "outputs": [],
   "source": [
    "#import libraries\n",
    "import pandas as pd\n",
    "import numpy as np\n",
    "\n",
    "import matplotlib as mpl\n",
    "import matplotlib.pyplot as plt\n",
    "from mpl_toolkits.mplot3d import Axes3D\n",
    "import seaborn as sns \n",
    "\n",
    "from sklearn.metrics import silhouette_score, silhouette_samples\n",
    "import sklearn.metrics\n",
    "from sklearn.preprocessing import StandardScaler\n",
    "from sklearn.cluster import KMeans, DBSCAN, AgglomerativeClustering\n",
    "from sklearn.mixture import GaussianMixture\n",
    "\n",
    "import itertools\n",
    "\n",
    "import scipy\n",
    "\n",
    "from IPython.core.interactiveshell import InteractiveShell\n",
    "InteractiveShell.ast_node_interactivity = \"all\"\n",
    "\n",
    "# This will ensure that matplotlib figures don't get cut off when saving with savefig()\n",
    "from matplotlib import rcParams\n",
    "rcParams.update({'figure.autolayout': True})"
   ]
  },
  {
   "cell_type": "markdown",
   "metadata": {},
   "source": [
    "# Read in File"
   ]
  },
  {
   "cell_type": "code",
   "execution_count": 23,
   "metadata": {},
   "outputs": [],
   "source": [
    "#import pandas as pd\n",
    "\n",
    "#infilename = pd.read_csv(\"TestFile.csv\")\n",
    "#infilename.head()"
   ]
  },
  {
   "cell_type": "markdown",
   "metadata": {},
   "source": [
    "# Remove Duplicates"
   ]
  },
  {
   "cell_type": "code",
   "execution_count": 24,
   "metadata": {},
   "outputs": [
    {
     "name": "stdout",
     "output_type": "stream",
     "text": [
      "ï»¿Name,TestField\n",
      "\n",
      "set()\n"
     ]
    },
    {
     "data": {
      "text/plain": [
       "18"
      ]
     },
     "execution_count": 24,
     "metadata": {},
     "output_type": "execute_result"
    },
    {
     "name": "stdout",
     "output_type": "stream",
     "text": [
      "Name1,Test1\n",
      "\n",
      "{'ï»¿Name,TestField\\n'}\n"
     ]
    },
    {
     "data": {
      "text/plain": [
       "12"
      ]
     },
     "execution_count": 24,
     "metadata": {},
     "output_type": "execute_result"
    },
    {
     "name": "stdout",
     "output_type": "stream",
     "text": [
      "Name2,Test2\n",
      "\n",
      "{'ï»¿Name,TestField\\n', 'Name1,Test1\\n'}\n"
     ]
    },
    {
     "data": {
      "text/plain": [
       "12"
      ]
     },
     "execution_count": 24,
     "metadata": {},
     "output_type": "execute_result"
    },
    {
     "name": "stdout",
     "output_type": "stream",
     "text": [
      "Name3,Test3\n",
      "\n",
      "{'Name2,Test2\\n', 'ï»¿Name,TestField\\n', 'Name1,Test1\\n'}\n"
     ]
    },
    {
     "data": {
      "text/plain": [
       "12"
      ]
     },
     "execution_count": 24,
     "metadata": {},
     "output_type": "execute_result"
    },
    {
     "name": "stdout",
     "output_type": "stream",
     "text": [
      "Name1,Test1\n",
      "\n",
      "{'Name3,Test3\\n', 'Name2,Test2\\n', 'ï»¿Name,TestField\\n', 'Name1,Test1\\n'}\n",
      "Name4,Test4\n",
      "\n",
      "{'Name3,Test3\\n', 'Name2,Test2\\n', 'ï»¿Name,TestField\\n', 'Name1,Test1\\n'}\n"
     ]
    },
    {
     "data": {
      "text/plain": [
       "12"
      ]
     },
     "execution_count": 24,
     "metadata": {},
     "output_type": "execute_result"
    },
    {
     "name": "stdout",
     "output_type": "stream",
     "text": [
      "Name1,Test1\n",
      "\n",
      "{'ï»¿Name,TestField\\n', 'Name4,Test4\\n', 'Name1,Test1\\n', 'Name3,Test3\\n', 'Name2,Test2\\n'}\n",
      "Name5,Test5\n",
      "\n",
      "{'ï»¿Name,TestField\\n', 'Name4,Test4\\n', 'Name1,Test1\\n', 'Name3,Test3\\n', 'Name2,Test2\\n'}\n"
     ]
    },
    {
     "data": {
      "text/plain": [
       "12"
      ]
     },
     "execution_count": 24,
     "metadata": {},
     "output_type": "execute_result"
    },
    {
     "name": "stdout",
     "output_type": "stream",
     "text": [
      "Name1,Test1\n",
      "\n",
      "{'ï»¿Name,TestField\\n', 'Name4,Test4\\n', 'Name5,Test5\\n', 'Name1,Test1\\n', 'Name3,Test3\\n', 'Name2,Test2\\n'}\n"
     ]
    }
   ],
   "source": [
    "infilename = \"TestFile.csv\"\n",
    "outfilename = \"NewTestFile.csv\"\n",
    "\n",
    "lines_seen = set() # holds lines already seen\n",
    "outfile = open(outfilename, \"w\")\n",
    "for line in open(infilename, \"r\"):\n",
    "    print(line)\n",
    "    print(lines_seen)\n",
    "    if line not in lines_seen: # not a duplicate\n",
    "        outfile.write(line)\n",
    "        lines_seen.add(line)\n",
    "outfile.close()"
   ]
  },
  {
   "cell_type": "code",
   "execution_count": null,
   "metadata": {},
   "outputs": [],
   "source": []
  }
 ],
 "metadata": {
  "kernelspec": {
   "display_name": "Python 3",
   "language": "python",
   "name": "python3"
  },
  "language_info": {
   "codemirror_mode": {
    "name": "ipython",
    "version": 3
   },
   "file_extension": ".py",
   "mimetype": "text/x-python",
   "name": "python",
   "nbconvert_exporter": "python",
   "pygments_lexer": "ipython3",
   "version": "3.7.3"
  }
 },
 "nbformat": 4,
 "nbformat_minor": 2
}
